{
 "cells": [
  {
   "cell_type": "code",
   "execution_count": null,
   "metadata": {},
   "outputs": [],
   "source": [
    "import numpy as np\n",
    "import pandas as pd\n",
    "import sklearn.metrics\n",
    "import sklearn.linear_model\n",
    "import sklearn.decomposition\n",
    "\n",
    "import os\n",
    "import tqdm\n",
    "import matplotlib.pyplot as plt\n",
    "\n",
    "from src import Selector\n",
    "\n",
    "chromosome_list = [str(i) for i in range(1, 23)] + [\"X\"]\n",
    "hash_idx_max = {\n",
    "    \"1\": 249000,  \"2\": 243000,  \"3\": 199000,  \"4\": 191000,\n",
    "    \"5\": 182000,  \"6\": 171000,  \"7\": 160000,  \"8\": 146000,\n",
    "    \"9\": 139000, \"10\": 134000, \"11\": 136000, \"12\": 134000,\n",
    "    \"13\": 115000, \"14\": 108000, \"15\": 102000, \"16\":  91000,\n",
    "    \"17\":  84000, \"18\":  81000, \"19\":  59000, \"20\":  65000,\n",
    "    \"21\":  47000, \"22\":  51000,  \"X\": 157000,\n",
    "}"
   ]
  },
  {
   "cell_type": "markdown",
   "metadata": {},
   "source": [
    "# Profile"
   ]
  },
  {
   "cell_type": "code",
   "execution_count": null,
   "metadata": {},
   "outputs": [],
   "source": [
    "# { chromosome : (hash_idx, bucket_idx, distance) }\n",
    "feature = Selector(\"data/feature\").getFeature()\n",
    "# remove distance and ndarray dtype from float to int\n",
    "# { chromosome : (hash_idx, bucket_idx) }\n",
    "feature = {c: np.array([f[:2] for f in feature[c]], dtype=int) for c in feature}\n",
    "result = []\n",
    "for c in chromosome_list:\n",
    "    for hash_idx, bucket_idx in feature[c]:\n",
    "        result.append((c, hash_idx*1000 + bucket_idx*100, hash_idx*1000 + (bucket_idx+1)*100))\n",
    "result = pd.DataFrame(result, columns=[\"chromosome\", \"start\", \"end\"])\n",
    "result.to_csv(\"data/temp/feature.csv\", index=False)"
   ]
  },
  {
   "cell_type": "code",
   "execution_count": null,
   "metadata": {},
   "outputs": [],
   "source": [
    "## bed\n",
    "# read bed file\n",
    "bed = pd.read_csv(\n",
    "    \"data/temp/rgc_gxs_v1_hg38.bed\", \n",
    "    sep=\"\\t\", header=0, names=[\"chromosome\", \"start\", \"end\"]\n",
    ")\n",
    "# remove chr prefix\n",
    "bed[\"chromosome\"] = bed[\"chromosome\"].apply(lambda x: x[3:])\n",
    "# keep chromosome 1-22 and X\n",
    "bed = bed[bed['chromosome'].isin(chromosome_list)]\n",
    "# transform bed from range list to one hot\n",
    "bed_one_hot = {\n",
    "    c: np.zeros((hash_idx_max[c] * 1000), dtype=bool) for c in chromosome_list\n",
    "}\n",
    "for _, row in bed.iterrows():\n",
    "    chromosome, start, end = row[['chromosome', 'start', 'end']]\n",
    "    bed_one_hot[chromosome][start:end] = True\n",
    "\n",
    "## feature\n",
    "# { chromosome : (hash_idx, bucket_idx, distance) }\n",
    "feature = Selector(\"data/feature\").getFeature()\n",
    "# remove distance and ndarray dtype from float to int\n",
    "# { chromosome : (hash_idx, bucket_idx) }\n",
    "feature = {c: np.array([f[:2] for f in feature[c]], dtype=int) for c in feature}\n",
    "# transform feature from bucket list to one hot\n",
    "feature_one_hot = {\n",
    "    c: np.zeros((hash_idx_max[c] * 1000), dtype=bool) for c in chromosome_list\n",
    "}\n",
    "for c in feature:\n",
    "    for hash_idx, bucket_idx in feature[c]:\n",
    "        feature_one_hot[c][\n",
    "            hash_idx*1000 + bucket_idx*100 : hash_idx*1000 + (bucket_idx+1)*100\n",
    "        ] = True\n",
    "\n",
    "# calculate overlap\n",
    "for c in bed_one_hot:\n",
    "    overlap = np.logical_and(bed_one_hot[c], feature_one_hot[c])\n",
    "    overlap_bed = (np.sum(overlap) / np.sum(bed_one_hot[c])) * 100 \n",
    "    overlap_feature = (np.sum(overlap) / np.sum(feature_one_hot[c])) * 100\n",
    "    print(\n",
    "        f\"Chromosome {c}:\\t\",\n",
    "        f\"overlap/bed: {np.sum(overlap):7,} / {np.sum(bed_one_hot[c]):9,} = {overlap_bed:5.2f}%\\t\",\n",
    "        f\"overlap/feature: {np.sum(overlap):7,} / {np.sum(feature_one_hot[c]):9,} = {overlap_feature:5.2f}%\"\n",
    "    )"
   ]
  },
  {
   "cell_type": "code",
   "execution_count": null,
   "metadata": {},
   "outputs": [],
   "source": [
    "p_val = 1e-3\n",
    "\n",
    "snps = pd.read_csv(\"data/snps.csv\", usecols=[\"Chr\", \"Pos\", \"Pval\"])\n",
    "# filter by pval < 1e-3\n",
    "snps = snps[snps[\"Pval\"] < p_val][[\"Chr\", \"Pos\"]]\n",
    "# sort by Chr and then Pos\n",
    "snps = snps.sort_values([\"Chr\", \"Pos\"])\n",
    "# transform chromosome from int 1-23 to str 1-22, X\n",
    "snps[\"Chr\"] = snps[\"Chr\"].apply(lambda x: str(x) if x < 23 else \"X\")\n",
    "# split by chromosome, { chromosome : (pos) }\n",
    "snps = snps.groupby(\"Chr\")[\"Pos\"].apply(list).to_dict()\n",
    "\n",
    "for c, pos in snps.items():\n",
    "    snps_in_bed, snps_in_feature = 0, 0\n",
    "    for p in pos:\n",
    "        if bed_one_hot[c][p]: snps_in_bed += 1\n",
    "        if feature_one_hot[c][p]: snps_in_feature += 1\n",
    "    print(\n",
    "        f\"Chromosome {c}:\\t\",\n",
    "        f\"snps_in_bed/bed: {snps_in_bed:6,} / {len(pos):6,} = {(snps_in_bed / len(pos)) * 100:5.2f}%\\t\",\n",
    "        f\"snps_in_feature/feature: {snps_in_feature:6,} / {len(pos):6,} = {(snps_in_feature / len(pos)) * 100:5.2f}%\"\n",
    "    )"
   ]
  },
  {
   "cell_type": "code",
   "execution_count": null,
   "metadata": {},
   "outputs": [],
   "source": [
    "p_val = 1e-2\n",
    "\n",
    "snps = pd.read_csv(\"data/snps.csv\", usecols=[\"Chr\", \"Pos\", \"Pval\"])\n",
    "# filter by pval < 1e-2\n",
    "snps = snps[snps[\"Pval\"] < p_val][[\"Chr\", \"Pos\"]]\n",
    "# sort by Chr and then Pos\n",
    "snps = snps.sort_values([\"Chr\", \"Pos\"])\n",
    "# transform chromosome from int 1-23 to str 1-22, X\n",
    "snps[\"Chr\"] = snps[\"Chr\"].apply(lambda x: str(x) if x < 23 else \"X\")\n",
    "# split by chromosome, { chromosome : (pos) }\n",
    "snps = snps.groupby(\"Chr\")[\"Pos\"].apply(list).to_dict()\n",
    "\n",
    "for c, pos in snps.items():\n",
    "    snps_in_bed, snps_in_feature = 0, 0\n",
    "    for p in pos:\n",
    "        if bed_one_hot[c][p]: snps_in_bed += 1\n",
    "        if feature_one_hot[c][p]: snps_in_feature += 1\n",
    "    print(\n",
    "        f\"Chromosome {c}:\\t\",\n",
    "        f\"snps_in_bed/bed: {snps_in_bed:7,} / {len(pos):7,} = {(snps_in_bed / len(pos)) * 100:5.2f}%\\t\",\n",
    "        f\"snps_in_feature/feature: {snps_in_feature:7,} / {len(pos):7,} = {(snps_in_feature / len(pos)) * 100:5.2f}%\"\n",
    "    )"
   ]
  },
  {
   "cell_type": "markdown",
   "metadata": {},
   "source": [
    "# Visulization"
   ]
  },
  {
   "cell_type": "code",
   "execution_count": 25,
   "metadata": {},
   "outputs": [
    {
     "name": "stdout",
     "output_type": "stream",
     "text": [
      "(960, 131042)\n"
     ]
    }
   ],
   "source": [
    "import numpy as np\n",
    "import pandas as pd\n",
    "\n",
    "profile = pd.read_csv(\"data/profile.csv\")\n",
    "repre = []\n",
    "for i in range(len(profile)):\n",
    "    if not pd.isna(profile.loc[i, \"repre_path\"]):\n",
    "        repre.append(np.load(profile.loc[i, \"repre_path\"]))\n",
    "repre = np.vstack(repre)\n",
    "# fit\n",
    "pca = sklearn.decomposition.PCA(n_components=8).fit(repre)\n",
    "# transform"
   ]
  },
  {
   "cell_type": "code",
   "execution_count": null,
   "metadata": {},
   "outputs": [],
   "source": [
    "pca1 = 1\n",
    "pca2 = 3\n",
    "\n",
    "# pca (497, 131042) to (497, 2)\n",
    "pca = sklearn.decomposition.PCA(n_components=10).fit(tcgaskcm_repre_train)\n",
    "print(pca.explained_variance_ratio_)\n",
    "# plot pca 1 and pca 2, color by train_label\n",
    "tcgaskcm_pca_train = pca.transform(tcgaskcm_repre_train)\n",
    "plt.scatter(tcgaskcm_pca_train[:, pca1], tcgaskcm_pca_train[:, pca2], s=1)\n",
    "plt.xlabel(f\"PCA {pca1}\")\n",
    "plt.ylabel(f\"PCA {pca2}\")\n",
    "plt.show()\n",
    "tcgaskcm_pca_valid = pca.transform(tcgaskcm_repre_valid)\n",
    "plt.scatter(tcgaskcm_pca_valid[:, pca1], tcgaskcm_pca_valid[:, pca2], s=1)\n",
    "plt.xlabel(f\"PCA {pca1}\")\n",
    "plt.ylabel(f\"PCA {pca2}\")\n",
    "plt.show()"
   ]
  }
 ],
 "metadata": {
  "kernelspec": {
   "display_name": "TCGA-Onc",
   "language": "python",
   "name": "python3"
  },
  "language_info": {
   "codemirror_mode": {
    "name": "ipython",
    "version": 3
   },
   "file_extension": ".py",
   "mimetype": "text/x-python",
   "name": "python",
   "nbconvert_exporter": "python",
   "pygments_lexer": "ipython3",
   "version": "3.10.13"
  }
 },
 "nbformat": 4,
 "nbformat_minor": 2
}
