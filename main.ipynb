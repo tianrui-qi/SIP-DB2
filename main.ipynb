{
 "cells": [
  {
   "cell_type": "code",
   "execution_count": null,
   "metadata": {},
   "outputs": [],
   "source": [
    "import torch\n",
    "import transformers\n",
    "\n",
    "\n",
    "tokenizer = transformers.AutoTokenizer.from_pretrained(\n",
    "    \"zhihan1996/DNABERT-2-117M\", trust_remote_code=True\n",
    ")\n",
    "model = transformers.AutoModel.from_pretrained(\n",
    "    \"zhihan1996/DNABERT-2-117M\", trust_remote_code=True\n",
    ")\n",
    "\n",
    "# input\n",
    "dna_list = [                        # [B]\n",
    "    \"ACGTAGCATCGGATCTATCTATCGACACTTGGTTATCGATCTACGAGCATCTCGTTAGC\", \n",
    "    #\"CGTACGTACGTACGTACGTACGTACGTACGTACGTACGTACGTACGTACGTACGTACGTA\",\n",
    "    #\"TACGTACGTACGTACGTACGTACGTACGTACGTACGTACGTACGTACGTACGTACGTACG\",\n",
    "]\n",
    "inputs = tokenizer(                 # [B, N]\n",
    "    dna_list, return_tensors = 'pt', padding=True\n",
    ")[\"input_ids\"]\n",
    "# output\n",
    "hidden_states   = model(inputs)     # ( [B, N, 768], [B, 768] )\n",
    "sequence_output = hidden_states[0]  # [B, N, 768]\n",
    "pooled_output   = hidden_states[1]  # [B, 768]\n",
    "\n",
    "# embedding with mean pooling\n",
    "embedding_mean = torch.mean(sequence_output, dim=1)     # [B, 768]\n",
    "# embedding with max  pooling\n",
    "embedding_max = torch.max(sequence_output, dim=1)[0]    # [B, 768]"
   ]
  }
 ],
 "metadata": {
  "kernelspec": {
   "display_name": "TCGA-Onc",
   "language": "python",
   "name": "python3"
  },
  "language_info": {
   "codemirror_mode": {
    "name": "ipython",
    "version": 3
   },
   "file_extension": ".py",
   "mimetype": "text/x-python",
   "name": "python",
   "nbconvert_exporter": "python",
   "pygments_lexer": "ipython3",
   "version": "3.8.18"
  }
 },
 "nbformat": 4,
 "nbformat_minor": 2
}
