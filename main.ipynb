{
 "cells": [
  {
   "cell_type": "code",
   "execution_count": null,
   "metadata": {},
   "outputs": [],
   "source": [
    "import torch\n",
    "import transformers\n",
    "\n",
    "\n",
    "tokenizer = transformers.AutoTokenizer.from_pretrained(\n",
    "    \"zhihan1996/DNABERT-2-117M\", trust_remote_code=True\n",
    ")\n",
    "model = transformers.AutoModel.from_pretrained(\n",
    "    \"zhihan1996/DNABERT-2-117M\", trust_remote_code=True\n",
    ")"
   ]
  },
  {
   "cell_type": "code",
   "execution_count": null,
   "metadata": {},
   "outputs": [],
   "source": [
    "# input\n",
    "dna_list = [                        # [B]\n",
    "    \"ACGTAGCATCGGATCTATCTATCGACACTTGGTTATCGATCTACGAGCATCTCGTTAGC\", \n",
    "    \"CGTACGTACGTACGTACGTACGTACGTACGTACGTACGTACGTACGTACGTACGTACGTA\",\n",
    "    \"TACGTACGTACGTACGTACGTACGTACGTACGTACGTACGTACGTACGTACGTACGTACG\",\n",
    "]\n",
    "inputs = tokenizer(                 # [B, N]\n",
    "    dna_list, return_tensors = 'pt', padding=True\n",
    ")[\"input_ids\"]\n",
    "# output\n",
    "hidden_states   = model(inputs)     # ( [B, N, 768], [B, 768] )\n",
    "sequence_output = hidden_states[0]  # [B, N, 768]\n",
    "pooled_output   = hidden_states[1]  # [B, 768]\n",
    "\n",
    "# embedding with mean pooling\n",
    "embedding_mean = torch.mean(sequence_output, dim=1)     # [B, 768]\n",
    "# embedding with max  pooling\n",
    "embedding_max = torch.max(sequence_output, dim=1)[0]    # [B, 768]"
   ]
  },
  {
   "cell_type": "code",
   "execution_count": 16,
   "metadata": {},
   "outputs": [
    {
     "name": "stdout",
     "output_type": "stream",
     "text": [
      "HISEQ1011:883:H5K7HBCX2:1:1111:14583:9891\t99\t#0\t10001\t0\t110M15S\t#0\t10015\t139\tTAACCCTAACCCTAACCCTAACCCTAACCCTAACCCTAACCCTAACCCTAACCCTAACCCTAACCCTAACCCTAACCCTAACCCTAACCCAAACCCTAACCCTACCCCAAACCCAAACCCAACCC\tarray('B', [38, 38, 38, 38, 38, 40, 40, 40, 38, 38, 40, 40, 40, 38, 40, 40, 40, 40, 38, 38, 40, 40, 38, 40, 38, 38, 38, 38, 40, 40, 38, 40, 40, 38, 40, 40, 40, 40, 40, 40, 40, 40, 40, 40, 40, 40, 40, 40, 40, 40, 38, 13, 38, 38, 32, 38, 38, 38, 38, 38, 38, 38, 38, 38, 38, 38, 32, 38, 38, 38, 40, 38, 38, 38, 32, 27, 38, 38, 13, 32, 13, 38, 38, 38, 13, 38, 32, 38, 38, 38, 2, 2, 2, 2, 2, 2, 2, 2, 2, 2, 2, 2, 2, 2, 2, 2, 2, 2, 2, 2, 2, 2, 2, 2, 2, 2, 2, 2, 2, 2, 2, 2, 2, 2, 2])\t[('NM', 2), ('MD', '90T13A5'), ('MC', '125M'), ('AS', 100), ('XS', 100)]\n",
      "HISEQ1011:883:H5K7HBCX2:1:1101:10177:74924\t2225\t#1\t10340\t0\t5H22M7I36M55H\t#2\t198173993\t0\tACCCTGACCCTGACCCTGACCGTAACCCTTAACCCTAACCCTAACCCGAACCCGAACCCGAACCC\tarray('B', [38, 40, 40, 38, 38, 38, 38, 40, 38, 38, 32, 38, 38, 40, 40, 38, 38, 38, 38, 38, 38, 38, 38, 40, 40, 40, 38, 38, 38, 40, 40, 38, 38, 40, 40, 38, 38, 38, 40, 38, 38, 38, 38, 38, 40, 40, 38, 38, 38, 38, 38, 40, 40, 40, 38, 38, 40, 40, 38, 38, 38, 32, 38, 38, 38])\t[('NM', 9), ('MD', '23G5G28'), ('MC', '41M2D53M31H'), ('AS', 35), ('XS', 35), ('SA', '13,114353906,+,76M49S,9,0;'), ('XA', '20,+64286794,55S34M2I34M,7;3,+198174016,73S25M5I16M6S,5;3,+198174161,73S25M5I16M6S,5;3,-10425,4M1I65M55S,8;19,+58586569,91S34M,1;')]\n",
      "HISEQ1011:883:H5K7HBCX2:2:1215:17020:46647\t161\t#2\t10005\t0\t52M73S\t#19\t36786546\t0\tCCCTAACCCTAACCCTAACCCTAACCCTAACCCTAACCCTAACCCTCACCCTCCCCCTTACCCTCAAACCACCCCCCTGCCTCCCCCTCCCCCGCCCCCTCAACTCGACCCTAACCCTCGCGACC\tarray('B', [32, 32, 13, 38, 32, 13, 13, 27, 27, 13, 38, 38, 32, 13, 38, 13, 27, 13, 38, 38, 38, 13, 32, 38, 13, 32, 38, 2, 2, 2, 2, 2, 2, 2, 2, 2, 2, 2, 2, 2, 2, 2, 2, 2, 2, 2, 2, 2, 2, 2, 2, 2, 2, 2, 2, 2, 2, 2, 2, 2, 2, 2, 2, 2, 2, 2, 2, 2, 2, 2, 2, 2, 2, 2, 2, 2, 2, 2, 2, 2, 2, 2, 2, 2, 2, 2, 2, 2, 2, 2, 2, 2, 2, 2, 2, 2, 2, 2, 2, 2, 2, 2, 2, 2, 2, 2, 2, 2, 2, 2, 2, 2, 2, 2, 2, 2, 2, 2, 2, 2, 2, 2, 2, 2, 2])\t[('NM', 0), ('MD', '52'), ('MC', '125M'), ('AS', 52), ('XS', 52)]\n",
      "HISEQ1011:883:H5K7HBCX2:1:1202:11390:51445\t163\t#3\t10000\t16\t25S36M1I63M\t#3\t10035\t155\tTCACCCTCACCCTCACCCTCACCCTCACCCTAACCCTCAACCCAACCCTAACCCTAACCCTAACCCTAACCCTAACCCTTAACCCTTAACCCTAACCCTAACCCTAACCCTAACCCTAACCCTTA\tarray('B', [38, 38, 32, 38, 32, 40, 40, 38, 40, 40, 40, 40, 40, 40, 40, 40, 40, 40, 40, 40, 40, 40, 40, 40, 40, 40, 40, 40, 40, 40, 40, 38, 40, 40, 40, 40, 40, 38, 40, 40, 40, 40, 38, 38, 38, 38, 40, 40, 40, 38, 38, 40, 40, 40, 38, 40, 40, 40, 40, 40, 38, 38, 38, 38, 38, 40, 38, 38, 38, 38, 32, 38, 32, 38, 38, 38, 38, 38, 38, 38, 38, 40, 38, 38, 38, 27, 32, 38, 13, 38, 32, 38, 32, 27, 38, 38, 38, 38, 13, 32, 27, 27, 27, 38, 13, 32, 32, 13, 32, 32, 2, 2, 2, 2, 2, 2, 2, 2, 2, 2, 2, 2, 2, 2, 2])\t[('NM', 5), ('MD', '12A1C2T79A1'), ('MC', '61M1I6M1I14M2I6M1I33M'), ('AS', 75), ('XS', 78)]\n",
      "HISEQ1011:883:H5K7HBCX2:1:1202:7144:7998\t163\t#4\t10035\t0\t47M1D66M12S\t#4\t10170\t202\tCCTAACCCTAACCCTAACCCTAACCCTAACCCTAACCCTAACCCTAACCTAACCACAACCCTAACCCTAACCCTAACCCTAACCCTAACCATAACACTAACACTAAACCTAACACCCTACCCAAC\tarray('B', [38, 38, 38, 32, 38, 40, 38, 40, 40, 40, 40, 40, 38, 38, 38, 38, 38, 38, 38, 38, 38, 38, 38, 38, 32, 32, 38, 32, 38, 13, 32, 38, 32, 32, 32, 38, 32, 13, 13, 32, 13, 38, 38, 38, 32, 38, 38, 38, 38, 13, 38, 27, 38, 38, 13, 13, 13, 27, 13, 27, 13, 13, 27, 27, 13, 13, 27, 13, 38, 38, 38, 13, 13, 13, 38, 32, 13, 38, 13, 27, 13, 27, 32, 32, 2, 2, 2, 2, 2, 2, 2, 2, 2, 2, 2, 2, 2, 2, 2, 2, 2, 2, 2, 2, 2, 2, 2, 2, 2, 2, 2, 2, 2, 2, 2, 2, 2, 2, 2, 2, 2, 2, 2, 2, 2])\t[('NM', 7), ('MD', '47^C7C0T34C4C5C4C6'), ('MC', '58S67M'), ('AS', 76), ('XS', 77)]\n",
      "HISEQ1011:883:H5K7HBCX2:1:2109:19541:42076\t99\t#5\t60984\t0\t125M\t#5\t61122\t263\tCTTTACTTTTTCCCAACATTCTTGTGAAATATGACACATCCCAATCTTAACAGATGCTCATTTGGGATACTGTACTTGTGAGTGGAAGTGTGTATATTTGTGTGCAAGTGTGTACTCATATACTT\tarray('B', [38, 38, 38, 38, 38, 40, 40, 40, 40, 40, 40, 40, 40, 38, 38, 40, 40, 40, 40, 40, 40, 40, 40, 40, 40, 40, 38, 40, 40, 40, 38, 40, 40, 40, 38, 38, 38, 40, 40, 38, 38, 40, 40, 40, 40, 38, 40, 40, 40, 38, 40, 40, 40, 40, 40, 40, 40, 40, 40, 40, 40, 40, 40, 40, 40, 40, 40, 40, 40, 38, 38, 40, 40, 40, 40, 40, 40, 40, 40, 38, 40, 40, 38, 38, 38, 40, 40, 40, 38, 40, 40, 40, 40, 40, 40, 40, 40, 40, 40, 40, 40, 38, 40, 40, 40, 40, 40, 40, 40, 40, 40, 40, 40, 40, 40, 40, 40, 40, 40, 40, 40, 40, 40, 40, 40])\t[('NM', 0), ('MD', '125'), ('MC', '125M'), ('AS', 125), ('XS', 125), ('XA', '15,-101921035,125M,0;1,+70991,125M,0;19,+112579,125M,0;')]\n",
      "HISEQ1011:883:H5K7HBCX2:1:2208:1892:34910\t99\t#6\t10002\t0\t72M53S\t#6\t10044\t101\tTAACCCTAACCCTAACCCTAACCCTAACCCTAACCCTAACCCTAACCCTAACCCTAACCCTAACCCTAACCCCCACACTAACCCTAACCCCAACCCACACCCTCACCCACACCCTAACCCCCAAC\tarray('B', [38, 38, 32, 38, 38, 38, 40, 40, 40, 40, 40, 40, 38, 38, 38, 32, 38, 38, 38, 38, 38, 38, 40, 40, 38, 32, 38, 38, 38, 38, 32, 32, 38, 38, 38, 40, 13, 32, 38, 38, 38, 32, 13, 27, 13, 38, 13, 38, 38, 38, 38, 38, 38, 40, 13, 38, 13, 13, 38, 38, 13, 38, 32, 38, 38, 38, 13, 13, 13, 13, 13, 27, 13, 13, 27, 32, 13, 27, 27, 13, 27, 27, 32, 38, 32, 32, 13, 13, 27, 32, 13, 13, 27, 32, 38, 38, 13, 13, 13, 27, 38, 38, 2, 2, 2, 2, 2, 2, 2, 2, 2, 2, 2, 2, 2, 2, 2, 2, 2, 2, 2, 2, 2, 2, 2])\t[('NM', 0), ('MD', '72'), ('MC', '66S59M'), ('AS', 72), ('XS', 81)]\n",
      "HISEQ1011:883:H5K7HBCX2:1:1105:16779:82771\t97\t#7\t60691\t0\t125M\t#22\t36350094\t0\tTAGCCATGAAGTTGATGATTTCTTAAAAATCTGTGCCTTATTTGTGTAATAAAAGACACAATGAATAATTAATACTCATAGGAACACTTACGAAGGGAAAATAAATCTTGGGGACTCAAAATCAC\tarray('B', [38, 38, 38, 38, 38, 40, 40, 40, 40, 38, 40, 40, 40, 40, 40, 40, 40, 40, 40, 40, 40, 40, 40, 40, 40, 40, 40, 40, 40, 40, 40, 40, 40, 40, 40, 40, 40, 40, 40, 40, 40, 40, 40, 40, 40, 40, 40, 40, 40, 40, 40, 40, 40, 40, 40, 40, 40, 40, 40, 40, 40, 40, 40, 40, 40, 40, 40, 40, 40, 40, 40, 40, 40, 40, 40, 40, 40, 40, 40, 40, 40, 40, 40, 40, 40, 40, 40, 40, 40, 40, 40, 40, 40, 38, 40, 40, 40, 40, 40, 40, 40, 38, 38, 40, 40, 40, 40, 40, 40, 40, 40, 38, 40, 40, 40, 40, 40, 40, 40, 40, 40, 40, 40, 40, 40])\t[('NM', 0), ('MD', '125'), ('MC', '125M'), ('AS', 125), ('XS', 125)]\n",
      "HISEQ1011:883:H5K7HBCX2:1:1202:16240:33386\t163\t#8\t10017\t35\t14M1I22M88S\t#8\t10104\t206\tCCTAACCCAACCCCAACCCCAACCCCAACCCCAACCCCACCCCCACCCCCCACCCCAACCCACCCCAAACCCAAACCCCCACCCACACCCACCCCAACCCACCCCCCACCCCAACCCCCCACCCC\tarray('B', [32, 38, 32, 38, 38, 40, 40, 40, 38, 40, 38, 40, 40, 40, 38, 38, 40, 38, 38, 40, 13, 38, 27, 38, 38, 40, 13, 38, 13, 27, 38, 38, 13, 13, 13, 27, 38, 38, 13, 13, 13, 27, 32, 13, 27, 13, 13, 27, 32, 13, 13, 13, 13, 13, 27, 27, 13, 13, 27, 38, 32, 32, 13, 38, 38, 38, 2, 2, 2, 2, 2, 2, 2, 2, 2, 2, 2, 2, 2, 2, 2, 2, 2, 2, 2, 2, 2, 2, 2, 2, 2, 2, 2, 2, 2, 2, 2, 2, 2, 2, 2, 2, 2, 2, 2, 2, 2, 2, 2, 2, 2, 2, 2, 2, 2, 2, 2, 2, 2, 2, 2, 2, 2, 2, 2])\t[('NM', 1), ('MD', '36'), ('MC', '71M6I48M'), ('AS', 29), ('XS', 39)]\n",
      "HISEQ1011:883:H5K7HBCX2:1:2209:9708:66226\t177\t#9\t10001\t0\t125M\t#22\t27741648\t0\tCTAACCGTAACCCTAACCCTAACCCTAACCCTAACCCTAACCCTAACCCTAACCCTAACCCTAACCCTAACCCTAACCCTAACCCTAACCCTAACCCTAACCCTAACCCTAACCCTAACCCTAAC\tarray('B', [2, 2, 2, 2, 2, 2, 2, 2, 2, 2, 2, 2, 2, 2, 2, 2, 2, 2, 2, 2, 2, 2, 38, 32, 38, 27, 13, 27, 13, 13, 13, 32, 27, 27, 32, 13, 13, 27, 38, 32, 38, 38, 13, 27, 27, 27, 27, 13, 27, 13, 27, 13, 32, 27, 32, 32, 13, 32, 38, 32, 13, 27, 13, 27, 38, 38, 38, 38, 38, 38, 38, 38, 27, 13, 27, 27, 38, 32, 38, 38, 38, 38, 38, 38, 32, 32, 32, 38, 38, 38, 38, 13, 13, 27, 38, 40, 40, 38, 38, 38, 38, 40, 38, 38, 38, 27, 38, 38, 38, 40, 38, 38, 38, 38, 38, 38, 38, 38, 40, 38, 38, 38, 38, 38, 38])\t[('NM', 1), ('MD', '6C118'), ('MC', '125M'), ('AS', 120), ('XS', 120)]\n",
      "HISEQ1011:883:H5K7HBCX2:1:1109:10852:37647\t99\t#10\t60194\t0\t125M\t#10\t60356\t287\tAAAAAATTTTAATTAATGCAAAGTATTAACACCAATGATTGCAGTAATACAGATCTTACAAATGATAGTTTTAGTCTGAACAGGACTATCCAAAAGTTAATTTTCTATAGTAACAGTTTTTAAAT\tarray('B', [32, 38, 38, 38, 38, 38, 38, 40, 40, 40, 40, 38, 38, 40, 38, 32, 32, 38, 38, 38, 40, 38, 38, 40, 38, 38, 38, 38, 38, 38, 38, 38, 38, 38, 13, 38, 38, 38, 38, 40, 38, 38, 38, 40, 40, 38, 38, 38, 38, 38, 38, 32, 32, 38, 32, 38, 38, 40, 40, 38, 40, 38, 38, 38, 32, 38, 32, 38, 32, 38, 38, 32, 38, 38, 32, 38, 38, 40, 40, 40, 40, 40, 38, 38, 40, 38, 40, 40, 38, 32, 38, 38, 38, 38, 38, 38, 38, 38, 40, 38, 32, 27, 38, 38, 38, 38, 38, 38, 38, 40, 27, 38, 38, 38, 38, 38, 38, 38, 38, 38, 38, 38, 38, 38, 38])\t[('NM', 0), ('MD', '125'), ('MC', '125M'), ('AS', 125), ('XS', 125)]\n",
      "HISEQ1011:883:H5K7HBCX2:2:1115:2169:68724\t99\t#11\t10011\t1\t125M\t#11\t10220\t289\tCCCTAACCCTAACCCTAACCCTAACCCTAACCCTAACCCTAACCCTAACCCTAACCCTAACCCTAAACCTAACCCTGAACCTAACCCTAACCCTAACCCTAACCATAACTCTAACCCAAAACCTA\tarray('B', [32, 32, 38, 32, 32, 38, 40, 40, 40, 38, 38, 38, 38, 38, 38, 38, 38, 38, 38, 38, 32, 32, 38, 38, 38, 38, 38, 40, 38, 38, 13, 32, 38, 38, 40, 38, 32, 38, 38, 38, 38, 38, 13, 13, 27, 32, 32, 38, 13, 38, 38, 32, 13, 38, 13, 27, 27, 13, 13, 32, 13, 13, 27, 32, 13, 32, 13, 27, 38, 32, 38, 32, 27, 32, 32, 32, 13, 27, 13, 27, 13, 13, 38, 32, 38, 38, 2, 2, 2, 2, 2, 2, 2, 2, 2, 2, 2, 2, 2, 2, 2, 2, 2, 2, 2, 2, 2, 2, 2, 2, 2, 2, 2, 2, 2, 2, 2, 2, 2, 2, 2, 2, 2, 2, 2])\t[('NM', 7), ('MD', '66C9A1C25T4C7T2C4'), ('MC', '45S80M'), ('AS', 92), ('XS', 93)]\n",
      "HISEQ1011:883:H5K7HBCX2:1:2212:20787:32005\t99\t#12\t16000276\t46\t125M\t#12\t16000344\t193\tTGGATATTTGGAACGCTTTGATGAGTATGGTGGAAAATGAAAAATCTTCACATAAAAACTAGACAGAATTACTCTGAGAAACTTCTTTGTGATGTGCACATTCATCTCACAAATTTGAAAATTTC\tarray('B', [38, 32, 38, 38, 38, 40, 40, 40, 40, 38, 38, 40, 38, 40, 40, 38, 40, 40, 40, 38, 38, 40, 40, 40, 38, 40, 40, 40, 40, 40, 40, 40, 40, 38, 40, 40, 40, 38, 40, 40, 40, 40, 40, 40, 40, 40, 40, 40, 40, 40, 40, 40, 40, 40, 40, 40, 40, 40, 40, 40, 40, 38, 38, 40, 40, 40, 40, 40, 40, 38, 40, 40, 40, 40, 40, 40, 40, 40, 40, 40, 38, 38, 38, 40, 40, 40, 40, 40, 40, 40, 40, 38, 40, 40, 40, 38, 40, 40, 40, 40, 40, 38, 38, 38, 40, 40, 40, 40, 38, 38, 38, 38, 40, 40, 40, 40, 40, 40, 40, 38, 40, 40, 40, 40, 40])\t[('NM', 1), ('MD', '13T111'), ('MC', '125M'), ('AS', 120), ('XS', 115), ('XA', '21,+10789653,125M,2;13,+16017170,125M,2;13,+16011531,125M,4;')]\n",
      "HISEQ1011:883:H5K7HBCX2:2:1115:16408:12850\t163\t#13\t16022760\t27\t125M\t#13\t16022832\t197\tGGTGTGTCTGCGTGTCCGTCAGCTCCTGTTTCCCGGGATCAGGCTGCCGAGGCTCTAGTGCCGGCGCGGGGCAAAGCAGGGACTTCCTGTCCCGTTGGCCACGGGCGGGTCCTCGTTGGGACAAG\tarray('B', [38, 38, 38, 38, 32, 38, 38, 40, 38, 40, 40, 40, 40, 40, 40, 40, 40, 40, 40, 40, 40, 38, 38, 40, 40, 40, 38, 38, 38, 40, 40, 40, 40, 40, 40, 40, 40, 40, 40, 40, 40, 40, 40, 40, 40, 40, 40, 40, 40, 40, 40, 38, 38, 38, 38, 40, 40, 40, 38, 40, 40, 40, 38, 38, 40, 38, 40, 38, 38, 40, 40, 40, 40, 40, 40, 38, 38, 38, 40, 38, 40, 40, 40, 40, 40, 40, 40, 40, 38, 40, 40, 40, 40, 38, 38, 40, 40, 38, 40, 40, 38, 32, 38, 38, 38, 40, 40, 40, 40, 40, 40, 40, 40, 40, 40, 38, 40, 40, 38, 40, 40, 40, 38, 40, 40])\t[('NM', 0), ('MD', '125'), ('MC', '125M'), ('AS', 125), ('XS', 125), ('XA', '22,-11284664,125M,0;')]\n",
      "HISEQ1011:883:H5K7HBCX2:1:2111:9864:15856\t163\t#14\t17000385\t0\t125M\t#14\t17000468\t208\tATCTCTCTTTTTTTAGAATCTGCACGTGGATATTTGGAGCGCTTTGAGACCTAAAGTGGAAAAGCAAATATCTTCACATAAAATCTACATAGAGGCACTCTAAGAAACTTCTTTTTGATGTGTGC\tarray('B', [32, 38, 38, 38, 38, 40, 40, 40, 40, 40, 40, 40, 40, 40, 40, 40, 40, 40, 40, 40, 40, 38, 40, 40, 40, 40, 40, 40, 40, 40, 40, 40, 38, 40, 40, 38, 40, 40, 40, 40, 40, 38, 38, 38, 40, 40, 38, 40, 40, 38, 40, 40, 38, 38, 38, 40, 40, 40, 38, 40, 40, 40, 40, 40, 40, 40, 40, 40, 40, 40, 40, 38, 40, 40, 40, 40, 40, 40, 40, 38, 40, 40, 40, 40, 40, 40, 38, 40, 40, 40, 40, 40, 38, 38, 40, 40, 40, 38, 40, 40, 40, 38, 38, 40, 38, 40, 40, 40, 40, 38, 38, 40, 40, 40, 40, 40, 38, 40, 38, 38, 40, 40, 38, 38, 40])\t[('NM', 0), ('MD', '125'), ('MC', '125M'), ('AS', 125), ('XS', 125)]\n",
      "HISEQ1011:883:H5K7HBCX2:1:2101:19892:13515\t163\t#15\t10001\t50\t8S117M\t#15\t10013\t137\tCCTAACCCTAACCCTAACCCTAACCCTAACCCTAACCCTAACCGACCCTCACCCTCACCCTAACCACATGAGCAATGTGGGTGTTATATTTTAGCTGTCATGGGTGCATTAGGAATGCTGCATTT\tarray('B', [38, 38, 38, 32, 38, 40, 40, 40, 40, 40, 40, 40, 40, 40, 40, 40, 40, 40, 40, 40, 40, 40, 40, 40, 40, 40, 40, 40, 40, 40, 40, 40, 40, 40, 40, 40, 40, 40, 40, 40, 40, 40, 40, 40, 38, 40, 40, 40, 40, 40, 40, 40, 40, 40, 38, 40, 40, 40, 40, 40, 40, 40, 38, 40, 40, 40, 40, 40, 40, 40, 38, 40, 40, 40, 40, 40, 40, 38, 40, 40, 40, 38, 38, 38, 40, 40, 40, 38, 40, 40, 40, 40, 40, 40, 40, 40, 40, 40, 40, 38, 40, 38, 38, 40, 40, 40, 40, 40, 40, 40, 40, 40, 40, 40, 40, 40, 40, 40, 40, 40, 40, 40, 40, 40, 40])\t[('NM', 0), ('MD', '117'), ('MC', '125M'), ('AS', 117), ('XS', 44)]\n",
      "HISEQ1011:883:H5K7HBCX2:1:1104:17162:95940\t99\t#16\t60021\t0\t115M10S\t#16\t60021\t115\tCCCACTGCTTCTTCCTGTCCACTAGGCCACAGCCGCCCTCCAGGCCCACTATGCACACATCTTCCCCTCCAAGGTTTGTTCTGCCCCTGCCCTGACTCCCAGCCCTGTGGGGGTCAGATCGGAAG\tarray('B', [32, 27, 32, 32, 38, 13, 13, 27, 38, 32, 32, 38, 13, 27, 27, 32, 32, 32, 27, 13, 27, 27, 38, 38, 38, 38, 32, 32, 27, 38, 38, 38, 38, 32, 38, 13, 32, 38, 38, 32, 32, 38, 38, 38, 38, 27, 32, 38, 38, 38, 38, 38, 38, 32, 38, 38, 32, 32, 38, 38, 32, 38, 38, 38, 38, 32, 38, 38, 38, 13, 32, 13, 38, 38, 27, 38, 38, 38, 38, 13, 38, 32, 38, 38, 38, 13, 27, 27, 13, 13, 27, 38, 13, 13, 27, 27, 27, 38, 32, 38, 32, 27, 38, 27, 38, 32, 32, 38, 38, 38, 32, 13, 32, 32, 38, 38, 38, 38, 38, 32, 38, 27, 32, 38, 32])\t[('NM', 0), ('MD', '115'), ('MC', '10S115M'), ('AS', 115), ('XS', 115)]\n",
      "HISEQ1011:883:H5K7HBCX2:1:1115:1443:46718\t99\t#17\t10001\t3\t3S78M4D5M1D39M\t#17\t10105\t229\tTAACCCTAACCCTAACCCTAACCCTAACCCCTAACCCTAACCCTAACCCTAACCCTAACCCTAACCCTAACCCTAACCCTAAACCCAACCCCACCCTCACCCTAAGCCTAACACCAACCCCAACC\tarray('B', [38, 38, 32, 38, 38, 40, 38, 38, 13, 38, 32, 32, 38, 38, 38, 38, 32, 38, 38, 40, 40, 40, 38, 38, 40, 40, 40, 40, 40, 40, 40, 38, 38, 40, 38, 38, 38, 38, 38, 38, 40, 40, 40, 38, 40, 40, 38, 38, 38, 38, 38, 38, 13, 38, 38, 32, 32, 38, 38, 40, 38, 38, 38, 38, 13, 27, 38, 13, 32, 32, 27, 32, 38, 27, 27, 38, 32, 38, 38, 13, 27, 38, 13, 27, 38, 13, 32, 38, 38, 38, 38, 13, 38, 2, 2, 2, 2, 2, 2, 2, 2, 2, 2, 2, 2, 2, 2, 2, 2, 2, 2, 2, 2, 2, 2, 2, 2, 2, 2, 2, 2, 2, 2, 2, 2])\t[('NM', 12), ('MD', '22T55^CCCT5^T5T5A7C6C1T5T4'), ('MC', '31M1I24M1D69M'), ('AS', 73), ('XS', 78)]\n",
      "HISEQ1011:883:H5K7HBCX2:1:2109:16394:90143\t163\t#18\t60138\t0\t125M\t#18\t60293\t280\tGGGGCCTCGACAAGGATAATCTGACCTGCAGGGTCAAGGAGTTGACGGTGCTGAGTTCCCTGCACTCTCAGTAGGGACAGGCCCTATGCTGCCAACTGTACATGCTATCTGAAAGACCGCCTCCA\tarray('B', [32, 38, 32, 13, 38, 38, 32, 32, 13, 13, 13, 27, 27, 27, 38, 38, 38, 32, 38, 38, 38, 13, 13, 38, 38, 32, 38, 32, 38, 38, 32, 38, 38, 38, 38, 38, 13, 32, 13, 13, 13, 27, 13, 27, 38, 38, 38, 27, 13, 27, 13, 38, 38, 13, 38, 13, 27, 13, 27, 27, 32, 38, 13, 13, 13, 13, 27, 32, 32, 13, 13, 13, 27, 38, 38, 38, 13, 13, 27, 27, 38, 13, 38, 32, 38, 38, 2, 2, 2, 2, 2, 2, 2, 2, 2, 2, 2, 2, 2, 2, 2, 2, 2, 2, 2, 2, 2, 2, 2, 2, 2, 2, 2, 2, 2, 2, 2, 2, 2, 2, 2, 2, 2, 2, 2])\t[('NM', 5), ('MD', '8T26G58C18G3A7'), ('MC', '125M'), ('AS', 100), ('XS', 100)]\n",
      "HISEQ1011:883:H5K7HBCX2:2:2215:17828:100299\t161\t#19\t60233\t60\t118M7S\t#5\t34686898\t0\tCCATTCCATTTCTCTCCACTCCATACCATTCCATTCCACTCCCTTCATTTCCATTCCAGTCCATTCCATTCCATTCCATTCCATTCCACTCCACTCCATTCCATTCCACTGCACTCCAGCCTGGG\tarray('B', [13, 32, 32, 13, 32, 32, 32, 13, 32, 38, 32, 32, 38, 13, 13, 13, 13, 27, 13, 27, 32, 38, 38, 13, 13, 38, 13, 32, 32, 38, 38, 38, 38, 38, 13, 38, 38, 38, 13, 27, 27, 27, 13, 32, 13, 38, 38, 38, 38, 32, 38, 40, 40, 40, 40, 38, 13, 38, 38, 38, 38, 27, 32, 13, 32, 38, 38, 13, 27, 27, 32, 13, 27, 13, 32, 27, 27, 38, 38, 32, 13, 27, 38, 13, 38, 32, 32, 38, 32, 38, 32, 38, 32, 13, 32, 38, 13, 27, 13, 27, 32, 13, 38, 13, 32, 27, 13, 13, 38, 32, 13, 13, 27, 13, 32, 38, 13, 38, 32, 2, 2, 2, 2, 2, 2])\t[('NM', 1), ('MD', '24C93'), ('MC', '125M'), ('AS', 113), ('XS', 55)]\n",
      "HISEQ1011:883:H5K7HBCX2:2:2110:15451:96030\t163\t#20\t5010449\t0\t125M\t#20\t5010547\t223\tTGCCAAAGTTTTTAAATAGGTTTATTCTGAGCCAATAAGAGTGACCATGGCCTGGGAAATACAGTCTTAAGAGATCCCGAGGAAGTGCACCTGAGGCGGTCAGTTACAATTTGGTTTTATGTATT\tarray('B', [38, 32, 38, 38, 38, 40, 40, 40, 38, 40, 38, 40, 40, 40, 40, 40, 40, 40, 40, 40, 40, 40, 40, 40, 40, 40, 40, 40, 40, 40, 40, 40, 40, 40, 40, 40, 40, 40, 40, 40, 40, 40, 38, 40, 40, 40, 40, 40, 40, 40, 40, 40, 40, 40, 40, 40, 40, 40, 40, 40, 40, 40, 40, 40, 40, 40, 40, 40, 40, 40, 40, 40, 40, 40, 40, 40, 40, 40, 40, 40, 40, 40, 40, 40, 40, 40, 40, 40, 40, 40, 40, 40, 40, 40, 40, 40, 40, 40, 40, 40, 40, 38, 38, 38, 40, 40, 40, 40, 40, 40, 38, 40, 40, 40, 38, 40, 40, 40, 40, 40, 40, 40, 40, 40, 40])\t[('NM', 0), ('MD', '125'), ('MC', '125M'), ('AS', 125), ('XS', 125), ('XA', '21,-44252924,125M,0;')]\n",
      "HISEQ1011:883:H5K7HBCX2:1:1112:18406:18286\t163\t#21\t10510132\t0\t125M\t#21\t10510292\t285\tAAAGAACATAATAATTATACTGGATTATTTTTAAATGGGCTGTCTAACATTATATTAAAAGGTTTCATCAGTAATTCATTATATCAAAATGCTCCAGGCCAGGCGTGGTGGCTTATGCCTGTAAT\tarray('B', [38, 38, 38, 38, 38, 40, 40, 38, 40, 40, 40, 40, 40, 40, 40, 38, 40, 40, 40, 40, 40, 40, 40, 40, 40, 40, 40, 40, 40, 40, 40, 40, 40, 40, 40, 40, 40, 40, 40, 40, 40, 40, 38, 38, 40, 40, 40, 40, 40, 40, 40, 40, 40, 40, 40, 40, 40, 40, 40, 40, 40, 38, 38, 38, 38, 40, 38, 40, 38, 40, 40, 40, 38, 40, 40, 40, 40, 38, 40, 40, 40, 40, 40, 40, 40, 40, 40, 40, 40, 40, 40, 38, 40, 40, 38, 38, 38, 38, 38, 40, 38, 38, 38, 40, 40, 40, 40, 38, 40, 40, 40, 40, 40, 40, 40, 40, 38, 38, 40, 40, 40, 40, 40, 40, 40])\t[('NM', 0), ('MD', '125'), ('MC', '125M'), ('AS', 125), ('XS', 125), ('XA', '14_KI270725v1_random,-153771,125M,0;21,+8533059,125M,0;Un_KI270749v1,+11099,125M,3;')]\n",
      "HISEQ1011:883:H5K7HBCX2:2:1204:1972:86273\t163\t#22\t10036\t27\t125M\t#22\t10111\t200\tCCTCTGAAAGTGGACCTATCAGCAGGATGTGGGTGGGAGCAGATTAGAGAATAAAAGCAGACTGCCTGAGCCAGCAGTGGCAACCCAATGGGGTCCCTTTCCATACTGTGGAAGCTTCGTTCTTT\tarray('B', [38, 38, 38, 38, 38, 40, 40, 38, 38, 40, 40, 40, 40, 40, 40, 40, 40, 40, 38, 38, 38, 40, 40, 40, 40, 40, 38, 38, 38, 38, 38, 40, 38, 32, 38, 40, 40, 38, 38, 38, 40, 38, 38, 38, 38, 38, 40, 40, 40, 40, 40, 40, 40, 38, 38, 40, 40, 38, 38, 38, 40, 40, 40, 40, 40, 38, 38, 40, 38, 38, 40, 40, 40, 40, 40, 40, 40, 40, 40, 40, 40, 40, 38, 40, 40, 38, 40, 40, 40, 38, 40, 38, 40, 40, 40, 38, 38, 38, 40, 40, 38, 38, 38, 38, 40, 40, 38, 40, 40, 40, 38, 38, 40, 40, 38, 40, 38, 38, 40, 40, 40, 40, 40, 40, 40])\t[('NM', 0), ('MD', '125'), ('MC', '125M'), ('AS', 125), ('XS', 125), ('XA', 'X,+222433,125M,0;')]\n",
      "HISEQ1011:883:H5K7HBCX2:2:1206:5861:74480\t2211\t#23\t2781762\t0\t55H31M39H\t#1\t45579836\t0\tAAAAAAAAAAAAAAAAAAAAAAAAGTTAATC\tarray('B', [40, 40, 40, 40, 40, 38, 38, 38, 40, 40, 40, 40, 38, 40, 38, 32, 13, 27, 38, 27, 13, 27, 32, 2, 2, 2, 2, 2, 2, 2, 2])\t[('NM', 0), ('MD', '31'), ('MC', '125M'), ('AS', 31), ('XS', 31), ('SA', '2,45579770,+,70M55S,60,0;')]\n",
      "HISEQ1011:883:H5K7HBCX2:1:2110:7554:7604\t163\t#24\t1\t60\t10S115M\t#24\t110\t234\tCATCACGATGGATCACAGGTCTATCACCCTATTAACCACTCACGGGAGCTCTCCATGCATTTGGTATTTTCGTCTGGGGGGTGTGCACGCGATAGCATTGCGAGACGCTGGAGCCGGAGCACCCT\tarray('B', [32, 32, 32, 32, 38, 38, 38, 40, 38, 40, 13, 38, 38, 38, 38, 38, 40, 38, 38, 27, 38, 38, 38, 38, 38, 38, 38, 38, 38, 38, 32, 38, 38, 38, 38, 38, 13, 32, 38, 38, 40, 32, 38, 38, 27, 32, 27, 38, 38, 38, 40, 38, 38, 38, 32, 38, 38, 38, 32, 32, 32, 38, 38, 32, 38, 38, 32, 38, 38, 38, 38, 38, 38, 38, 38, 38, 38, 38, 13, 38, 38, 38, 38, 40, 38, 40, 40, 40, 38, 38, 38, 38, 32, 38, 38, 38, 38, 38, 32, 38, 38, 38, 38, 38, 38, 38, 38, 40, 40, 38, 40, 40, 38, 38, 38, 38, 38, 38, 40, 38, 38, 40, 40, 38, 38])\t[('NM', 1), ('MD', '72A42'), ('MC', '125M'), ('AS', 110), ('XS', 71)]\n"
     ]
    }
   ],
   "source": [
    "import pysam\n",
    "\n",
    "samfile = pysam.AlignmentFile(\"data/bam/SRR8924580.bam\", \"r\")\n",
    "# ['1', '2', '3', '4', '5', '6', '7', '8', '9', '10', '11', '12', '13', '14', '15', '16', '17', '18', '19', '20', '21', '22', 'X', 'Y', 'M']\n",
    "contig_list = list(samfile.references)[:25]\n",
    "\n",
    "for contig in contig_list:\n",
    "    for read in samfile.fetch(contig):\n",
    "        print(read)\n",
    "        break"
   ]
  },
  {
   "cell_type": "code",
   "execution_count": 17,
   "metadata": {},
   "outputs": [
    {
     "name": "stdout",
     "output_type": "stream",
     "text": [
      "Chromosome 1    #reads: 14365821   length/read: 124.91\n",
      "Chromosome 2    #reads: 11719391   length/read: 124.80\n",
      "Chromosome 3    #reads: 8972469    length/read: 124.90\n",
      "Chromosome 4    #reads: 6865470    length/read: 124.88\n",
      "Chromosome 5    #reads: 7387724    length/read: 124.89\n",
      "Chromosome 6    #reads: 8102749    length/read: 124.90\n",
      "Chromosome 7    #reads: 8284689    length/read: 124.89\n",
      "Chromosome 8    #reads: 5706703    length/read: 124.88\n",
      "Chromosome 9    #reads: 5387576    length/read: 124.90\n",
      "Chromosome 10   #reads: 6425285    length/read: 124.88\n",
      "Chromosome 11   #reads: 8160671    length/read: 124.92\n",
      "Chromosome 12   #reads: 7868704    length/read: 124.91\n",
      "Chromosome 13   #reads: 3275567    length/read: 124.87\n",
      "Chromosome 14   #reads: 5022530    length/read: 124.90\n",
      "Chromosome 15   #reads: 5277768    length/read: 124.91\n",
      "Chromosome 16   #reads: 6004828    length/read: 124.90\n",
      "Chromosome 17   #reads: 6911851    length/read: 124.90\n",
      "Chromosome 18   #reads: 2847626    length/read: 124.89\n",
      "Chromosome 19   #reads: 7508744    length/read: 124.91\n",
      "Chromosome 20   #reads: 3460773    length/read: 124.89\n",
      "Chromosome 21   #reads: 1874866    length/read: 124.87\n",
      "Chromosome 22   #reads: 3155795    length/read: 124.91\n",
      "Chromosome X    #reads: 6947770    length/read: 124.90\n",
      "Chromosome Y    #reads: 21391      length/read: 117.07\n",
      "Chromosome M    #reads: 657355     length/read: 124.96\n",
      "152214116\n"
     ]
    }
   ],
   "source": [
    "import pysam\n",
    "\n",
    "\n",
    "samfile = pysam.AlignmentFile(\"data/bam/SRR8924581.bam\", \"r\")\n",
    "# ['1', '2', '3', '4', '5', '6', '7', '8', '9', '10', '11', '12', '13', '14', '15', '16', '17', '18', '19', '20', '21', '22', 'X', 'Y', 'M']\n",
    "contig_list = list(samfile.references)[:25]\n",
    "\n",
    "total_num = 0\n",
    "for contig in contig_list[:25]:\n",
    "    num = 0\n",
    "    length = 0\n",
    "    for read in samfile.fetch(contig):\n",
    "        num += 1\n",
    "        length += len(read.query_sequence)\n",
    "    total_num += num\n",
    "    print(\"Chromosome {:<4} #reads: {:<10} length/read: {:.2f}\".format(\n",
    "        contig, num, length/num\n",
    "    ))\n",
    "print(total_num)\n",
    "samfile.close()"
   ]
  },
  {
   "cell_type": "code",
   "execution_count": 21,
   "metadata": {},
   "outputs": [
    {
     "name": "stdout",
     "output_type": "stream",
     "text": [
      "Chromosome 1    #reads: 14153155   length/read: 124.91\n",
      "Chromosome 2    #reads: 11614344   length/read: 124.81\n",
      "Chromosome 3    #reads: 8924525    length/read: 124.90\n",
      "Chromosome 4    #reads: 6866045    length/read: 124.88\n",
      "Chromosome 5    #reads: 7368754    length/read: 124.89\n",
      "Chromosome 6    #reads: 8027427    length/read: 124.91\n",
      "Chromosome 7    #reads: 8076612    length/read: 124.89\n",
      "Chromosome 8    #reads: 5691124    length/read: 124.88\n",
      "Chromosome 9    #reads: 5651471    length/read: 124.90\n",
      "Chromosome 10   #reads: 6387098    length/read: 124.88\n",
      "Chromosome 11   #reads: 8049973    length/read: 124.92\n",
      "Chromosome 12   #reads: 7769051    length/read: 124.91\n",
      "Chromosome 13   #reads: 3291614    length/read: 124.88\n",
      "Chromosome 14   #reads: 4955527    length/read: 124.90\n",
      "Chromosome 15   #reads: 5218518    length/read: 124.91\n",
      "Chromosome 16   #reads: 5950267    length/read: 124.90\n",
      "Chromosome 17   #reads: 7060133    length/read: 124.90\n",
      "Chromosome 18   #reads: 2848967    length/read: 124.90\n",
      "Chromosome 19   #reads: 7372735    length/read: 124.92\n",
      "Chromosome 20   #reads: 3432860    length/read: 124.89\n",
      "Chromosome 21   #reads: 1878421    length/read: 124.87\n",
      "Chromosome 22   #reads: 3104625    length/read: 124.91\n",
      "Chromosome X    #reads: 6951170    length/read: 124.90\n",
      "Chromosome Y    #reads: 24405      length/read: 115.96\n",
      "Chromosome M    #reads: 541327     length/read: 124.95\n",
      "151210148\n"
     ]
    }
   ],
   "source": [
    "import pysam\n",
    "\n",
    "\n",
    "samfile = pysam.AlignmentFile(\"data/bam/SRR8924580.bam\", \"r\")\n",
    "# ['1', '2', '3', '4', '5', '6', '7', '8', '9', '10', '11', '12', '13', '14', '15', '16', '17', '18', '19', '20', '21', '22', 'X', 'Y', 'M']\n",
    "contig_list = list(samfile.references)[:25]\n",
    "\n",
    "total_num = 0\n",
    "for contig in contig_list[:25]:\n",
    "    num = 0\n",
    "    length = 0\n",
    "    for read in samfile.fetch(contig):\n",
    "        num += 1\n",
    "        length += len(read.query_sequence)\n",
    "    total_num += num\n",
    "    print(\"Chromosome {:<4} #reads: {:<10} length/read: {:.2f}\".format(\n",
    "        contig, num, length/num\n",
    "    ))\n",
    "print(total_num)\n",
    "samfile.close()"
   ]
  }
 ],
 "metadata": {
  "kernelspec": {
   "display_name": "TCGA-Onc",
   "language": "python",
   "name": "python3"
  },
  "language_info": {
   "codemirror_mode": {
    "name": "ipython",
    "version": 3
   },
   "file_extension": ".py",
   "mimetype": "text/x-python",
   "name": "python",
   "nbconvert_exporter": "python",
   "pygments_lexer": "ipython3",
   "version": "3.8.18"
  }
 },
 "nbformat": 4,
 "nbformat_minor": 2
}
